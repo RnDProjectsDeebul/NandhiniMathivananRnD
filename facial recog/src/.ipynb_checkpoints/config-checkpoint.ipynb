{
 "cells": [
  {
   "cell_type": "code",
   "execution_count": 1,
   "id": "6417860c",
   "metadata": {},
   "outputs": [],
   "source": [
    "import torch"
   ]
  },
  {
   "cell_type": "code",
   "execution_count": 2,
   "id": "850a5739",
   "metadata": {},
   "outputs": [],
   "source": [
    "ROOT_PATH = '/home/nandhini/facial recog/input/facial-keypoints-detection'\n",
    "OUTPUT_PATH = '/home/nandhini/facial recog/outputs'"
   ]
  },
  {
   "cell_type": "code",
   "execution_count": 4,
   "id": "fbc88447",
   "metadata": {},
   "outputs": [],
   "source": [
    "BATCH_SIZE = 256\n",
    "LR = 0.0001\n",
    "EPOCHS = 300\n",
    "DEVICE = torch.device('cuda' if torch.cuda.is_available() else 'cpu')\n",
    "#train test split\n",
    "TEST_SPLIT = 0.2"
   ]
  },
  {
   "cell_type": "code",
   "execution_count": 5,
   "id": "d388a521",
   "metadata": {},
   "outputs": [],
   "source": [
    "#how dataset keypoint plot\n",
    "SHOW_DATASET_PLOT = True"
   ]
  }
 ],
 "metadata": {
  "kernelspec": {
   "display_name": "Python 3",
   "language": "python",
   "name": "python3"
  },
  "language_info": {
   "codemirror_mode": {
    "name": "ipython",
    "version": 3
   },
   "file_extension": ".py",
   "mimetype": "text/x-python",
   "name": "python",
   "nbconvert_exporter": "python",
   "pygments_lexer": "ipython3",
   "version": "3.6.13"
  }
 },
 "nbformat": 4,
 "nbformat_minor": 5
}
