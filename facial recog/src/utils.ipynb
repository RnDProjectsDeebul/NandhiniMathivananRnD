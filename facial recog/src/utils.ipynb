{
 "cells": [
  {
   "cell_type": "code",
   "execution_count": 4,
   "id": "b26820ca",
   "metadata": {},
   "outputs": [],
   "source": [
    "import matplotlib.pyplot as plt\n",
    "import numpy as np\n",
    "import config"
   ]
  },
  {
   "cell_type": "markdown",
   "id": "d14ca087",
   "metadata": {},
   "source": [
    "This function plots the regressed (predicted) keypoints and the actual keypoints after each validation epoch for one image in the batch"
   ]
  },
  {
   "cell_type": "code",
   "execution_count": 5,
   "id": "cb5683b7",
   "metadata": {},
   "outputs": [],
   "source": [
    "def valid_keypoints_plot(image, outputs, orig_keypoints, epoch):\n",
    "\n",
    "    # detach the image, keypoints, and output tensors from GPU to CPU\n",
    "    image = image.detach().cpu()\n",
    "    outputs = outputs.detach().cpu().numpy()\n",
    "    orig_keypoints = orig_keypoints.detach().cpu().numpy()\n",
    "    # just get a single datapoint from each batch\n",
    "    img = image[0]\n",
    "    output_keypoint = outputs[0]\n",
    "    orig_keypoint = orig_keypoints[0]\n",
    "    img = np.array(img, dtype='float32')\n",
    "    img = np.transpose(img, (1, 2, 0))\n",
    "    #reshape it into the original 96×96 dimensions\n",
    "    img = img.reshape(96, 96)\n",
    "    plt.imshow(img, cmap='gray')\n",
    "    \n",
    "    output_keypoint = output_keypoint.reshape(-1, 2)\n",
    "    orig_keypoint = orig_keypoint.reshape(-1, 2)\n",
    "    for p in range(output_keypoint.shape[0]):\n",
    "        plt.plot(output_keypoint[p, 0], output_keypoint[p, 1], 'r.')\n",
    "        plt.text(output_keypoint[p, 0], output_keypoint[p, 1], f\"{p}\")\n",
    "        plt.plot(orig_keypoint[p, 0], orig_keypoint[p, 1], 'g.')\n",
    "        plt.text(orig_keypoint[p, 0], orig_keypoint[p, 1], f\"{p}\")\n",
    "    plt.savefig(f\"{config.OUTPUT_PATH}/val_epoch_{epoch}.png\")\n",
    "    plt.close()"
   ]
  },
  {
   "cell_type": "markdown",
   "id": "85ae4bce",
   "metadata": {},
   "source": [
    "This code for plotting the keypoints that we will predict during testing. Specifically, this is for those images whose pixel values are in the test.csv file"
   ]
  },
  {
   "cell_type": "code",
   "execution_count": 6,
   "id": "b77bf9c3",
   "metadata": {},
   "outputs": [],
   "source": [
    "def test_keypoints_plot(images_list, outputs_list):\n",
    "\n",
    "    plt.figure(figsize=(10, 10))\n",
    "    for i in range(len(images_list)):\n",
    "        outputs = outputs_list[i]\n",
    "        image = images_list[i]\n",
    "        outputs = outputs.cpu().detach().numpy()\n",
    "        outputs = outputs.reshape(-1, 2)\n",
    "        plt.subplot(3, 3, i+1)\n",
    "        plt.imshow(image, cmap='gray')\n",
    "        for p in range(outputs.shape[0]):\n",
    "                plt.plot(outputs[p, 0], outputs[p, 1], 'r.')\n",
    "                plt.text(outputs[p, 0], outputs[p, 1], f\"{p}\")\n",
    "        plt.axis('off')\n",
    "    plt.savefig(f\"{config.OUTPUT_PATH}/test_output.png\")\n",
    "    plt.show()\n",
    "    plt.close()"
   ]
  },
  {
   "cell_type": "markdown",
   "id": "4dd3502c",
   "metadata": {},
   "source": [
    "Before we feed our data to the neural network model, we want to know whether our data is correct or not. We may not be sure whether all the keypoints correctly correspond to the faces or not. For that reason, we will write a function that will show us the face images and the corresponding keypoints just before training begins"
   ]
  },
  {
   "cell_type": "code",
   "execution_count": 7,
   "id": "50c8a6f6",
   "metadata": {},
   "outputs": [],
   "source": [
    "def dataset_keypoints_plot(data):\n",
    "\n",
    "    plt.figure(figsize=(20, 40))\n",
    "    for i in range(30):\n",
    "        sample = data[i]\n",
    "        img = sample['image']\n",
    "        img = np.array(img, dtype='float32')\n",
    "        img = np.transpose(img, (1, 2, 0))\n",
    "        img = img.reshape(96, 96)\n",
    "        plt.subplot(5, 6, i+1)\n",
    "        plt.imshow(img, cmap='gray')\n",
    "        keypoints = sample['keypoints']\n",
    "        for j in range(len(keypoints)):\n",
    "            plt.plot(keypoints[j, 0], keypoints[j, 1], 'r.')\n",
    "    plt.show()\n",
    "    plt.close()\n"
   ]
  },
  {
   "cell_type": "code",
   "execution_count": null,
   "id": "b61d933d",
   "metadata": {},
   "outputs": [],
   "source": []
  },
  {
   "cell_type": "code",
   "execution_count": null,
   "id": "28d7b5c0",
   "metadata": {},
   "outputs": [],
   "source": []
  }
 ],
 "metadata": {
  "kernelspec": {
   "display_name": "Python 3",
   "language": "python",
   "name": "python3"
  },
  "language_info": {
   "codemirror_mode": {
    "name": "ipython",
    "version": 3
   },
   "file_extension": ".py",
   "mimetype": "text/x-python",
   "name": "python",
   "nbconvert_exporter": "python",
   "pygments_lexer": "ipython3",
   "version": "3.6.13"
  }
 },
 "nbformat": 4,
 "nbformat_minor": 5
}
